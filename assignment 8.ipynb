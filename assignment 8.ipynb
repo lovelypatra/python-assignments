{
 "cells": [
  {
   "cell_type": "markdown",
   "id": "0f4eacf1",
   "metadata": {},
   "source": [
    "1. Is the Python Standard Library included with PyInputPlus?\n",
    "Ans: PyInputPlus is not a part of the python standard library,we have to install it separately by using Pip.\n",
    "\n",
    "2. Why is PyInputPlus commonly imported with import pyinputplus as pypi?\n",
    "Ans: Pypi is alias of PyInputPlus. The 'as pypi' code in the import statement which saves us from typing pyinputplus each time we want to call a PyInputPlus function.Instead we can use the shorter pypi name.we can give any word instead of pypi as pypi is easier to understand, so pypi is commonly used. \n",
    "\n",
    "3. How do you distinguish between inputInt() and inputFloat()?\n",
    "Ans: inputInt() statement allows the user to input/enter a integer number only and returns integer values\n",
    "inputFloat() statement allows the user to input/enter a integer or floating point value and returns float value.\n",
    "\n",
    "4. Using PyInputPlus, how do you ensure that the user enters a whole number between 0 and 99?\n",
    "Ans: In the inputint function we can set the min=0 and max=99 to ensure user enters number between 0 and 99.\n",
    "\n",
    "5. What is transferred to the keyword arguments allowRegexes and blockRegexes?\n",
    "Ans: we can also use regular expressions to specify whether an input is allowed or not.The allowRegexes and blockRegexes keyword arguments take a list of regular expression strings to determine what the PyInpuPlus function will accept or reject as valid input.\n",
    "\n",
    "6. If a blank input is entered three times, what does inputStr(limit=3) do?\n",
    "Ans:It will throw retrylimitexception.\n",
    "\n",
    "7. If blank input is entered three times, what does inputStr(limit=3, default='hello') do?\n",
    "Ans:When we use limit keyword arguments and also pass a default keyword argument, the function returns the default instead of raising an exception."
   ]
  }
 ],
 "metadata": {
  "kernelspec": {
   "display_name": "Python 3 (ipykernel)",
   "language": "python",
   "name": "python3"
  },
  "language_info": {
   "codemirror_mode": {
    "name": "ipython",
    "version": 3
   },
   "file_extension": ".py",
   "mimetype": "text/x-python",
   "name": "python",
   "nbconvert_exporter": "python",
   "pygments_lexer": "ipython3",
   "version": "3.9.12"
  }
 },
 "nbformat": 4,
 "nbformat_minor": 5
}
