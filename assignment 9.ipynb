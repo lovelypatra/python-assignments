{
 "cells": [
  {
   "cell_type": "markdown",
   "id": "e7d06f8c",
   "metadata": {},
   "source": [
    "1. To what does a relative path refer?\n",
    "Ans: A relative path refers to a location that is relative to a current directory.\n",
    "2. What does an absolute path start with your operating system?\n",
    "Ans:Absolute path will begin at the home directory of our computer and will end with the file or directory that we wish to access.\n",
    "3. What do the functions os.getcwd() and os.chdir() do?\n",
    "Ans:we use the os.getcwd() method to extract the current working directory and we use the os.chdir() method to change the current working directory. \n",
    "4. What are the . and .. folders?\n",
    "Ans:The . folder is the current folder, and .. folder is the parent folder.\n",
    "5. In C:\\bacon\\eggs\\spam.txt, which part is the dir name, and which part is the base name?\n",
    "Ans: C:\\bacon\\eggs is the dir name, spam.txt is the base name.\n",
    "6. What are the three “mode” arguments that can be passed to the open() function?\n",
    "Ans:file,mode,buffering.\n",
    "7. What happens if an existing file is opened in write mode?\n",
    "Ans:the contents will be discarded and the file is treated as a new empty file.\n",
    "8. How do you tell the difference between read() and readlines()?\n",
    "Ans:read() will read the whole file at once and then print out the first characters that take up as many bytes as we specify in the parenthesis versus the readline() that will read and print out only first characters that take up as many bytes as we specify in the parenthesis.\n",
    "9. What data structure does a shelf value resemble?\n",
    "Ans:A shelf value resembles a dictionary value."
   ]
  }
 ],
 "metadata": {
  "kernelspec": {
   "display_name": "Python 3 (ipykernel)",
   "language": "python",
   "name": "python3"
  },
  "language_info": {
   "codemirror_mode": {
    "name": "ipython",
    "version": 3
   },
   "file_extension": ".py",
   "mimetype": "text/x-python",
   "name": "python",
   "nbconvert_exporter": "python",
   "pygments_lexer": "ipython3",
   "version": "3.9.12"
  }
 },
 "nbformat": 4,
 "nbformat_minor": 5
}
