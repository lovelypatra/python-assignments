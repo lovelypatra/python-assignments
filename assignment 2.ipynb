{
 "cells": [
  {
   "cell_type": "markdown",
   "id": "2ca85ad2",
   "metadata": {},
   "source": [
    "1.What are the two values of the Boolean data type? How do you write them?\n",
    "\n",
    "Ans: True and False\n",
    "they are written in 1 for True and 0 for False\n",
    "\n",
    "2. What are the three different types of Boolean operators?\n",
    "\n",
    "Ans:\"and\",\"or\",\"not\"\n",
    "\n",
    "3. Make a list of each Boolean operator's truth tables (i.e. every possible combination of Boolean values for the operator and what it evaluate ).\n",
    "\n",
    "Ans:\n",
    "    A            B      A and B         A or B         not A                         \n",
    "   False      False       False         False          True                 \n",
    "   False      True        False         True           True           \n",
    "   True       False       False         True           False       \n",
    "   True       True        True          True           False                        \n",
    " 4. What are the values of the following expressions?\n",
    "(5 > 4) and (3 == 5)\n",
    "not (5> 4)\n",
    "(5 > 4) or (3 == 5)\n",
    "not ((5 > 4) or (3 == 5))\n",
    "(True and True) and (True == False)\n",
    "(not False) or (not True)\n",
    "\n",
    "\n",
    "Ans: False\n",
    "     False\n",
    "     True\n",
    "     False\n",
    "     False\n",
    "     True\n",
    "     \n",
    "5. What are the six comparison operators?    \n",
    "\n",
    "Ans: ==\n",
    "     <\n",
    "     <=\n",
    "     >\n",
    "     >=\n",
    "     !=\n",
    "     \n",
    "6. How do you tell the difference between the equal to and assignment operators?Describe a condition and when you would use one.    \n",
    "\n",
    "Ans: equal to operator is used to compare betwwen two given operands but assignment operator is used to assign a value in athe variable.\n",
    "\n",
    "7. Identify the three blocks in this code:\n",
    "spam = 0\n",
    "if spam == 10:\n",
    "print('eggs')\n",
    "if spam > 5:\n",
    "print('bacon')\n",
    "else:\n",
    "print('ham')\n",
    "print('spam')\n",
    "print('spam')\n",
    "\n",
    "Ans:  first block\n",
    "      if spam == 10:\n",
    "          print('eggs')\n",
    "          \n",
    "          \n",
    "      second block\n",
    "      if spam > 5:\n",
    "          print('bacon')\n",
    "      \n",
    "      \n",
    "      third block\n",
    "      else:\n",
    "           print('ham')\n",
    "           print('spam')\n",
    "           print('spam')\n",
    "           \n",
    "           \n",
    "8. Write code that prints Hello if 1 is stored in spam, prints Howdy if 2 is stored in spam, and prints Greetings! if anything else is stored in spam.  "
   ]
  },
  {
   "cell_type": "code",
   "execution_count": 2,
   "id": "63e9e298",
   "metadata": {},
   "outputs": [
    {
     "name": "stdout",
     "output_type": "stream",
     "text": [
      "enter a no.4\n",
      "Greetings\n"
     ]
    }
   ],
   "source": [
    "spam = input(\"enter a no.\")\n",
    "if spam==1:\n",
    "    print(\"Hello\")\n",
    "elif spam ==2:\n",
    "    print(\"Howdy\")\n",
    "else:\n",
    "    print(\"Greetings\")"
   ]
  },
  {
   "cell_type": "markdown",
   "id": "f6d744eb",
   "metadata": {},
   "source": [
    "9.If your programme is stuck in an endless loop, what keys you’ll press?\n",
    "\n",
    "Ans: restart kernel\n",
    "\n",
    "10. How can you tell the difference between break and continue?\n",
    "\n",
    "Ans: when break is given it terminates the execution of loop if the condition given is false\n",
    "when continue is given it terminates the current iteration and executes the next iteration of the loop.\n",
    "\n",
    "\n",
    "11. In a for loop, what is the difference between range(10), range(0, 10), and range(0, 10, 1)?\n",
    "\n",
    "Ans: all the three conditions are same\n",
    "\n",
    "12. Write a short program that prints the numbers 1 to 10 using a for loop. Then write an equivalent program that prints the numbers 1 to 10 using a while loop."
   ]
  },
  {
   "cell_type": "code",
   "execution_count": 3,
   "id": "2a5989f7",
   "metadata": {},
   "outputs": [
    {
     "name": "stdout",
     "output_type": "stream",
     "text": [
      "1\n",
      "2\n",
      "3\n",
      "4\n",
      "5\n",
      "6\n",
      "7\n",
      "8\n",
      "9\n",
      "10\n"
     ]
    }
   ],
   "source": [
    "for i in range(1,11):\n",
    "    print (i)"
   ]
  },
  {
   "cell_type": "code",
   "execution_count": 4,
   "id": "25f70233",
   "metadata": {},
   "outputs": [
    {
     "name": "stdout",
     "output_type": "stream",
     "text": [
      "1\n",
      "2\n",
      "3\n",
      "4\n",
      "5\n",
      "6\n",
      "7\n",
      "8\n",
      "9\n",
      "10\n"
     ]
    }
   ],
   "source": [
    "a=0\n",
    "b=9\n",
    "while a<=b:\n",
    "    a=a+1\n",
    "    print (a)"
   ]
  },
  {
   "cell_type": "markdown",
   "id": "824013c2",
   "metadata": {},
   "source": [
    "13. If you had a function named bacon() inside a module named spam, how would you call it after\n",
    "importing spam?\n",
    "ans: spam.bacon()"
   ]
  }
 ],
 "metadata": {
  "kernelspec": {
   "display_name": "Python 3 (ipykernel)",
   "language": "python",
   "name": "python3"
  },
  "language_info": {
   "codemirror_mode": {
    "name": "ipython",
    "version": 3
   },
   "file_extension": ".py",
   "mimetype": "text/x-python",
   "name": "python",
   "nbconvert_exporter": "python",
   "pygments_lexer": "ipython3",
   "version": "3.9.12"
  }
 },
 "nbformat": 4,
 "nbformat_minor": 5
}
