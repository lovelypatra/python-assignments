{
 "cells": [
  {
   "cell_type": "markdown",
   "id": "0eadb021",
   "metadata": {},
   "source": [
    "1.In the below elements which of them are values or an expression?eg:-values can be integer or string and expressions will be mathematical operators.\n",
    "*\n",
    "&#39;hello&#39;\n",
    "-87.8\n",
    "-\n",
    "/\n",
    "+\n",
    "6\n",
    "\n",
    "ans:  *,-,/,+ are mathematical operators i.e., expressions\n",
    "   -87.8,6 are integer i.e.,values\n",
    "   'hello' is string i.e.,  values\n",
    "   \n",
    "2.What is the difference between string and variable?\n",
    "\n",
    "ans:  In a variable we are able to store string or integer or any data type but string is a combination of character which is stored in a variable\n",
    "\n",
    "3.Describe three different data types.\n",
    "\n",
    "ans:  integer data type-contains positive and negative numbers but not decimal numbers\n",
    "string data type- combination of uppercase and lowercase characters\n",
    "float data type-contains decimal numbers\n",
    "\n",
    "4.What is an expression made up of? What do all expressions do?\n",
    "\n",
    "ans: expressions are made up of combination of operators and operands.expressions are interpreted to create a new value.\n",
    "\n",
    "5.This assignment statements, like spam = 10. What is the difference between an expression and a statement?\n",
    "\n",
    "ans:  an expression is something that can be reduced to a value ,for example \"1+3\" is an expression but \"store=1+3\" is not an expression.it is a statement. a statement cannot get reduced to value\n",
    "\n",
    "6.After running the following code, what does the variable bacon contain?\n",
    "bacon = 22\n",
    "bacon + 1\n",
    "\n",
    "ans:  22\n",
    "\n",
    "7.What should the values of the following two terms be?\n",
    "'spam' + 'spamspam'\n",
    "'spam' * 3\n",
    "\n",
    "ans:  'spamspamspam'\n",
    "      'spamspamspam'\n",
    "    \n",
    "8.Why is eggs a valid variable name while 100 is invalid?\n",
    "\n",
    "ans:  In a variable we can store any data type and can change it.for example \"eggs=100\" after executing we can change the value of eggs i.e.,\"eggs=eggs+1\" then its will give different value nut 100 is a fixed value ,we cannot change it.\n",
    "\n",
    "9.What three functions can be used to get the integer, floating-point number, or string\n",
    "version of a value?\n",
    "\n",
    "ans: int()\n",
    "     float()\n",
    "     str()\n",
    "\n",
    "10.Why does this expression cause an error? How can you fix it?\n",
    "'I have eaten' + 99 + 'burritos'\n",
    "\n",
    "ans: because 99 is a integer and we can fix this problem by using str function.str function will convert int type to str type,example \n",
    "i=99\n",
    "i=str(i)"
   ]
  },
  {
   "cell_type": "code",
   "execution_count": 1,
   "id": "c13daaa7",
   "metadata": {},
   "outputs": [
    {
     "data": {
      "text/plain": [
       "'spamspamspam'"
      ]
     },
     "execution_count": 1,
     "metadata": {},
     "output_type": "execute_result"
    }
   ],
   "source": [
    "'spam'+'spamspam'"
   ]
  },
  {
   "cell_type": "code",
   "execution_count": 2,
   "id": "da085bce",
   "metadata": {},
   "outputs": [
    {
     "data": {
      "text/plain": [
       "'spamspamspam'"
      ]
     },
     "execution_count": 2,
     "metadata": {},
     "output_type": "execute_result"
    }
   ],
   "source": [
    "'spam'*3"
   ]
  },
  {
   "cell_type": "code",
   "execution_count": 3,
   "id": "a94469de",
   "metadata": {},
   "outputs": [
    {
     "data": {
      "text/plain": [
       "23"
      ]
     },
     "execution_count": 3,
     "metadata": {},
     "output_type": "execute_result"
    }
   ],
   "source": [
    "bacon=22\n",
    "bacon+1"
   ]
  },
  {
   "cell_type": "code",
   "execution_count": 4,
   "id": "935fb058",
   "metadata": {},
   "outputs": [
    {
     "data": {
      "text/plain": [
       "22"
      ]
     },
     "execution_count": 4,
     "metadata": {},
     "output_type": "execute_result"
    }
   ],
   "source": [
    "bacon"
   ]
  },
  {
   "cell_type": "code",
   "execution_count": null,
   "id": "20582137",
   "metadata": {},
   "outputs": [],
   "source": []
  }
 ],
 "metadata": {
  "kernelspec": {
   "display_name": "Python 3 (ipykernel)",
   "language": "python",
   "name": "python3"
  },
  "language_info": {
   "codemirror_mode": {
    "name": "ipython",
    "version": 3
   },
   "file_extension": ".py",
   "mimetype": "text/x-python",
   "name": "python",
   "nbconvert_exporter": "python",
   "pygments_lexer": "ipython3",
   "version": "3.9.12"
  }
 },
 "nbformat": 4,
 "nbformat_minor": 5
}
