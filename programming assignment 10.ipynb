{
 "cells": [
  {
   "cell_type": "markdown",
   "id": "3469ec34",
   "metadata": {},
   "source": [
    "1.Write a Python Program to find sum of elements in a list ?"
   ]
  },
  {
   "cell_type": "code",
   "execution_count": 1,
   "id": "e0a62c1c",
   "metadata": {},
   "outputs": [
    {
     "name": "stdout",
     "output_type": "stream",
     "text": [
      "sum of elements in list is 88\n"
     ]
    }
   ],
   "source": [
    "l=[3,4,5,67,4,5]\n",
    "sum=0\n",
    "for i in l:\n",
    "    sum=sum+i\n",
    "print(\"sum of elements in list is\",sum)"
   ]
  },
  {
   "cell_type": "markdown",
   "id": "e3785677",
   "metadata": {},
   "source": [
    "2.Write a Python Program to multiply all numbers in the list ?"
   ]
  },
  {
   "cell_type": "code",
   "execution_count": 2,
   "id": "0f6cca2e",
   "metadata": {},
   "outputs": [
    {
     "name": "stdout",
     "output_type": "stream",
     "text": [
      "product of all numbers in the list is 991861200\n"
     ]
    }
   ],
   "source": [
    "l=[3,55,66,99,10,23,4]\n",
    "product=1\n",
    "for i in l:\n",
    "    product=product*i\n",
    "print(\"product of all numbers in the list is\",product)"
   ]
  },
  {
   "cell_type": "markdown",
   "id": "de42d5ba",
   "metadata": {},
   "source": [
    "3.Write a Python Program to find smallest number in the list ?"
   ]
  },
  {
   "cell_type": "code",
   "execution_count": 3,
   "id": "14750ff3",
   "metadata": {},
   "outputs": [
    {
     "name": "stdout",
     "output_type": "stream",
     "text": [
      "smallest number in the list is -1\n"
     ]
    }
   ],
   "source": [
    "l=[23,1,-1,34,56,78]\n",
    "small=0\n",
    "for i in l:\n",
    "    if small>i:\n",
    "        small=i\n",
    "print(\"smallest number in the list is\",small)"
   ]
  },
  {
   "cell_type": "markdown",
   "id": "e272a282",
   "metadata": {},
   "source": [
    "4.Write a Python Program to find largest number in the list ?"
   ]
  },
  {
   "cell_type": "code",
   "execution_count": 4,
   "id": "ab513083",
   "metadata": {},
   "outputs": [
    {
     "name": "stdout",
     "output_type": "stream",
     "text": [
      "largest number in the list is 78\n"
     ]
    }
   ],
   "source": [
    "l=[23,1,-1,34,56,78]\n",
    "large=0\n",
    "for i in l:\n",
    "    if large<i:\n",
    "        large=i\n",
    "print(\"largest number in the list is\",large)"
   ]
  },
  {
   "cell_type": "markdown",
   "id": "2b515c78",
   "metadata": {},
   "source": [
    "5.Write a Python Program to find second largest number in the list ?"
   ]
  },
  {
   "cell_type": "code",
   "execution_count": 5,
   "id": "bc8e204c",
   "metadata": {},
   "outputs": [
    {
     "name": "stdout",
     "output_type": "stream",
     "text": [
      "second largest number inthe list is  56\n"
     ]
    }
   ],
   "source": [
    "l=[23,1,-1,34,56,78]\n",
    "l.sort()\n",
    "print(\"second largest number inthe list is \",l[-2])"
   ]
  },
  {
   "cell_type": "markdown",
   "id": "dbd722d8",
   "metadata": {},
   "source": [
    "6.Write a Python Program to find N largest elements in the list ?"
   ]
  },
  {
   "cell_type": "code",
   "execution_count": 6,
   "id": "a429281c",
   "metadata": {},
   "outputs": [
    {
     "name": "stdout",
     "output_type": "stream",
     "text": [
      "enter n3\n",
      "n largest element in the list is [34, 56, 78]\n"
     ]
    }
   ],
   "source": [
    "l=[23,1,-1,34,56,78]\n",
    "n=int(input(\"enter n\"))\n",
    "l.sort()\n",
    "print(\"n largest element in the list is\",l[-n:])"
   ]
  },
  {
   "cell_type": "markdown",
   "id": "dc9f93f5",
   "metadata": {},
   "source": [
    "7.Write a Python Program to find even numbers in the list ?"
   ]
  },
  {
   "cell_type": "code",
   "execution_count": 7,
   "id": "182ca2ef",
   "metadata": {},
   "outputs": [
    {
     "name": "stdout",
     "output_type": "stream",
     "text": [
      "even numbers in the list are [34, 56, 78, 76]\n"
     ]
    }
   ],
   "source": [
    "l=[23,1,34,56,78,45,76]\n",
    "l1=[]\n",
    "for i in l:\n",
    "    if i % 2 == 0:\n",
    "        l1.append(i)\n",
    "print(\"even numbers in the list are\",l1)"
   ]
  },
  {
   "cell_type": "markdown",
   "id": "2f1eb12d",
   "metadata": {},
   "source": [
    "8.Write a Python Program to find odd numbers in the list ?"
   ]
  },
  {
   "cell_type": "code",
   "execution_count": 8,
   "id": "c2616eb3",
   "metadata": {},
   "outputs": [
    {
     "name": "stdout",
     "output_type": "stream",
     "text": [
      "odd numbers in the list are [23, 1, 45]\n"
     ]
    }
   ],
   "source": [
    "l=[23,1,34,56,78,45,76]\n",
    "l1=[]\n",
    "for i in l:\n",
    "    if i % 2 != 0:\n",
    "        l1.append(i)\n",
    "print(\"odd numbers in the list are\",l1)"
   ]
  },
  {
   "cell_type": "markdown",
   "id": "f40515bb",
   "metadata": {},
   "source": [
    "9.Write a Python Program to remove empty list from list ?"
   ]
  },
  {
   "cell_type": "code",
   "execution_count": 9,
   "id": "d9fc08c8",
   "metadata": {},
   "outputs": [
    {
     "name": "stdout",
     "output_type": "stream",
     "text": [
      "final list is [23, 45, 65, 12, 5, 3, 55]\n"
     ]
    }
   ],
   "source": [
    "l=[23,45,65,12,[],5,3,[],55]\n",
    "for i in l:\n",
    "    if [] in l:\n",
    "        l.remove([])\n",
    "print(\"final list is\",l)"
   ]
  },
  {
   "cell_type": "markdown",
   "id": "268dce0f",
   "metadata": {},
   "source": [
    "10.Write a Python Program to Cloning or Copying a list ?"
   ]
  },
  {
   "cell_type": "code",
   "execution_count": 10,
   "id": "3537e565",
   "metadata": {},
   "outputs": [
    {
     "name": "stdout",
     "output_type": "stream",
     "text": [
      "[1, 2, 3, 4, 5, 6, 7, 8] 1849334677568\n",
      "[1, 2, 3, 4, 5, 6, 7, 8] 1849334695424\n"
     ]
    }
   ],
   "source": [
    "import copy\n",
    "l=[1,2,3,4,5,6,7,8]\n",
    "def cloneList():\n",
    "    print(l, id(l))\n",
    "    cloned_list = l.copy()\n",
    "    print(cloned_list, id(cloned_list))\n",
    "\n",
    "cloneList()"
   ]
  },
  {
   "cell_type": "markdown",
   "id": "cb42abc8",
   "metadata": {},
   "source": [
    "11.Write a Python Program to count occurences of an element in a list ?"
   ]
  },
  {
   "cell_type": "code",
   "execution_count": 11,
   "id": "3b178154",
   "metadata": {},
   "outputs": [
    {
     "name": "stdout",
     "output_type": "stream",
     "text": [
      "Enter the elements of the list: 7,7,8,8,8,8,9\n",
      "Enter the element to find: 8\n",
      "There are 4 occurences of 8 in (7, 7, 8, 8, 8, 8, 9)\n"
     ]
    }
   ],
   "source": [
    "def checkOccurence():\n",
    "    in_list = eval(input('Enter the elements of the list: '))\n",
    "    in_num = eval(input('Enter the element to find: '))\n",
    "    count = 0\n",
    "    if in_num in in_list:\n",
    "        for ele in in_list:\n",
    "            if ele == in_num:\n",
    "                count = count+1\n",
    "    print(f'There are {count} occurences of {in_num} in {in_list}')\n",
    "checkOccurence()"
   ]
  },
  {
   "cell_type": "code",
   "execution_count": null,
   "id": "265e1960",
   "metadata": {},
   "outputs": [],
   "source": []
  }
 ],
 "metadata": {
  "kernelspec": {
   "display_name": "Python 3 (ipykernel)",
   "language": "python",
   "name": "python3"
  },
  "language_info": {
   "codemirror_mode": {
    "name": "ipython",
    "version": 3
   },
   "file_extension": ".py",
   "mimetype": "text/x-python",
   "name": "python",
   "nbconvert_exporter": "python",
   "pygments_lexer": "ipython3",
   "version": "3.9.12"
  }
 },
 "nbformat": 4,
 "nbformat_minor": 5
}
