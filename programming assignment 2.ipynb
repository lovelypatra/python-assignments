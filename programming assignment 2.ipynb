{
 "cells": [
  {
   "cell_type": "markdown",
   "id": "ca84baa7",
   "metadata": {},
   "source": [
    "1. Write a Python program to convert kilometers to miles?"
   ]
  },
  {
   "cell_type": "code",
   "execution_count": 4,
   "id": "5866c54b",
   "metadata": {},
   "outputs": [
    {
     "name": "stdout",
     "output_type": "stream",
     "text": [
      "enter a number to convert it into miles3\n",
      "3.0 km = 1.8641130000000001 miles\n"
     ]
    }
   ],
   "source": [
    "km=float(input(\"enter a number to convert it into miles\"))\n",
    "miles=km*0.621371\n",
    "print(km,\"km\",\"=\",miles,\"miles\")"
   ]
  },
  {
   "cell_type": "markdown",
   "id": "ce89facb",
   "metadata": {},
   "source": [
    "2. Write a Python program to convert Celsius to Fahrenheit?"
   ]
  },
  {
   "cell_type": "code",
   "execution_count": 6,
   "id": "95baf517",
   "metadata": {},
   "outputs": [
    {
     "name": "stdout",
     "output_type": "stream",
     "text": [
      "enter a number 1\n",
      "1.00 celsius = 33.80 Fahrenheit\n"
     ]
    }
   ],
   "source": [
    "celsius=float(input(\"enter a number \"))\n",
    "fahrenheit=(celsius *1.8)+32\n",
    "print(\"%.2f celsius = %.2f Fahrenheit\"%(celsius,fahrenheit))"
   ]
  },
  {
   "cell_type": "markdown",
   "id": "53ff26d0",
   "metadata": {},
   "source": [
    "3. Write a Python program to display calendar?"
   ]
  },
  {
   "cell_type": "code",
   "execution_count": 8,
   "id": "8e4f536f",
   "metadata": {},
   "outputs": [
    {
     "name": "stdout",
     "output_type": "stream",
     "text": [
      "Enter the year : 2022\n",
      "Enter the month : 10\n",
      "    October 2022\n",
      "Mo Tu We Th Fr Sa Su\n",
      "                1  2\n",
      " 3  4  5  6  7  8  9\n",
      "10 11 12 13 14 15 16\n",
      "17 18 19 20 21 22 23\n",
      "24 25 26 27 28 29 30\n",
      "31\n",
      "\n"
     ]
    }
   ],
   "source": [
    "import calendar\n",
    "year = int(input(\"Enter the year : \"))\n",
    "month = int(input(\"Enter the month : \"))\n",
    "print(calendar.month(year,month))"
   ]
  },
  {
   "cell_type": "markdown",
   "id": "7d00584b",
   "metadata": {},
   "source": [
    "4. Write a Python program to solve quadratic equation?"
   ]
  },
  {
   "cell_type": "code",
   "execution_count": 13,
   "id": "58f45211",
   "metadata": {},
   "outputs": [
    {
     "name": "stdout",
     "output_type": "stream",
     "text": [
      "Enter the number :1\n",
      "Enter the number :2\n",
      "Enter the number :3\n",
      "The solution are (-1-1.4142135623730951j) and (-1+1.4142135623730951j)\n"
     ]
    }
   ],
   "source": [
    "import cmath\n",
    "a = float(input(\"Enter the number :\"))\n",
    "b = float(input(\"Enter the number :\"))\n",
    "c = float(input(\"Enter the number :\"))\n",
    "   \n",
    "d = (b**2) - (4*a*c)\n",
    "    \n",
    "sol1 = (-b-cmath.sqrt(d))/(2*a)\n",
    "sol2 = (-b+cmath.sqrt(d))/(2*a)\n",
    "print('The solution are {0} and {1}'.format(sol1,sol2))"
   ]
  },
  {
   "cell_type": "markdown",
   "id": "f2cc22c2",
   "metadata": {},
   "source": [
    "5. Write a Python program to swap two variables without temp variable?"
   ]
  },
  {
   "cell_type": "code",
   "execution_count": 16,
   "id": "fa84f081",
   "metadata": {},
   "outputs": [
    {
     "name": "stdout",
     "output_type": "stream",
     "text": [
      "enter x 1\n",
      "enter y 2\n",
      "x = 2\n",
      "y = 1\n"
     ]
    }
   ],
   "source": [
    "a=int(input(\"enter x \"))\n",
    "b=int(input(\"enter y \"))\n",
    "a,b=b,a\n",
    "print(\"x =\",a)\n",
    "print(\"y =\",b)"
   ]
  },
  {
   "cell_type": "code",
   "execution_count": null,
   "id": "9d96aa9c",
   "metadata": {},
   "outputs": [],
   "source": []
  }
 ],
 "metadata": {
  "kernelspec": {
   "display_name": "Python 3 (ipykernel)",
   "language": "python",
   "name": "python3"
  },
  "language_info": {
   "codemirror_mode": {
    "name": "ipython",
    "version": 3
   },
   "file_extension": ".py",
   "mimetype": "text/x-python",
   "name": "python",
   "nbconvert_exporter": "python",
   "pygments_lexer": "ipython3",
   "version": "3.9.12"
  }
 },
 "nbformat": 4,
 "nbformat_minor": 5
}
