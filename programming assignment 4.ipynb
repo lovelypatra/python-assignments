{
 "cells": [
  {
   "cell_type": "markdown",
   "id": "98657c13",
   "metadata": {},
   "source": [
    "1. Write a Python Program to Find the Factorial of a Number?"
   ]
  },
  {
   "cell_type": "code",
   "execution_count": 3,
   "id": "fcb83293",
   "metadata": {},
   "outputs": [
    {
     "name": "stdout",
     "output_type": "stream",
     "text": [
      "enter a number10\n",
      "factorial of  10 is 3628800\n"
     ]
    }
   ],
   "source": [
    "a = int(input(\"enter a number\"))\n",
    "j=1\n",
    "for i in range(1,a+1):\n",
    "    j=i*j\n",
    "print (\"factorial of \",a,\"is\",j)"
   ]
  },
  {
   "cell_type": "markdown",
   "id": "b42862cb",
   "metadata": {},
   "source": [
    "2. Write a Python Program to Display the multiplication Table?"
   ]
  },
  {
   "cell_type": "code",
   "execution_count": 4,
   "id": "8b27d55e",
   "metadata": {},
   "outputs": [
    {
     "name": "stdout",
     "output_type": "stream",
     "text": [
      "enter a number30\n",
      "30 * 1 = 30\n",
      "30 * 2 = 60\n",
      "30 * 3 = 90\n",
      "30 * 4 = 120\n",
      "30 * 5 = 150\n",
      "30 * 6 = 180\n",
      "30 * 7 = 210\n",
      "30 * 8 = 240\n",
      "30 * 9 = 270\n",
      "30 * 10 = 300\n"
     ]
    }
   ],
   "source": [
    "a=int(input(\"enter a number\"))\n",
    "for i in range(1,11):\n",
    "    mul=a*i\n",
    "    print(a,\"*\",i,\"=\",mul)"
   ]
  },
  {
   "cell_type": "markdown",
   "id": "11f2c1e6",
   "metadata": {},
   "source": [
    "3. Write a Python Program to Print the Fibonacci sequence?"
   ]
  },
  {
   "cell_type": "code",
   "execution_count": 5,
   "id": "7bfb1285",
   "metadata": {},
   "outputs": [
    {
     "name": "stdout",
     "output_type": "stream",
     "text": [
      "enter length fibonacci series20\n",
      "fibonacci series is [0, 1, 1, 2, 3, 5, 8, 13, 21, 34, 55, 89, 144, 233, 377, 610, 987, 1597, 2584, 4181]\n"
     ]
    }
   ],
   "source": [
    "a=0\n",
    "b=1\n",
    "d=0\n",
    "c=0\n",
    "l=[a,b]\n",
    "i=int(input(\"enter length fibonacci series\"))\n",
    "while d<i-2:\n",
    "    c=a+b\n",
    "    a=b\n",
    "    b=c\n",
    "    l.append(c)\n",
    "    d=d+1\n",
    "print(\"fibonacci series is\",l)\n",
    "    \n"
   ]
  },
  {
   "cell_type": "markdown",
   "id": "90f18274",
   "metadata": {},
   "source": [
    "4. Write a Python Program to Check Armstrong Number?"
   ]
  },
  {
   "cell_type": "code",
   "execution_count": 6,
   "id": "b369cf97",
   "metadata": {},
   "outputs": [
    {
     "name": "stdout",
     "output_type": "stream",
     "text": [
      "enter a number1634\n",
      "1634 is a armstrong number\n"
     ]
    }
   ],
   "source": [
    "a=str(input(\"enter a number\"))\n",
    "c=0\n",
    "n=len(a)\n",
    "for i in a:\n",
    "    i=int(i)\n",
    "    b=i**n\n",
    "    c=b+c\n",
    "if str(c)==a:\n",
    "    print(a,\"is a armstrong number\")\n",
    "else: print(\"not a armstrong number\")"
   ]
  },
  {
   "cell_type": "markdown",
   "id": "a35ca1f3",
   "metadata": {},
   "source": [
    "5. Write a Python Program to Find Armstrong Number in an Interval?"
   ]
  },
  {
   "cell_type": "code",
   "execution_count": 7,
   "id": "ab65d53d",
   "metadata": {},
   "outputs": [
    {
     "name": "stdout",
     "output_type": "stream",
     "text": [
      "armstrong numbers between 1 to 500 are [1, 2, 3, 4, 5, 6, 7, 8, 9, 153, 370, 371, 407]\n"
     ]
    }
   ],
   "source": [
    "a=1\n",
    "c=0\n",
    "l=[]\n",
    "while a<=500:\n",
    "    c=0\n",
    "    n=len(str(a))\n",
    "    for i in str(a):\n",
    "        i=int(i)\n",
    "        c=c+i**n\n",
    "    if a==c:\n",
    "        l.append(a)\n",
    "    a=a+1\n",
    "print(\"armstrong numbers between 1 to 500 are\",l)"
   ]
  },
  {
   "cell_type": "markdown",
   "id": "afc8416e",
   "metadata": {},
   "source": [
    "6. Write a Python Program to Find the Sum of Natural Numbers?"
   ]
  },
  {
   "cell_type": "code",
   "execution_count": 9,
   "id": "7e21ca41",
   "metadata": {},
   "outputs": [
    {
     "name": "stdout",
     "output_type": "stream",
     "text": [
      "Enter a number :10\n",
      "sum of natural numbers are 55\n"
     ]
    }
   ],
   "source": [
    " n = int(input(\"Enter a number :\"))\n",
    "sum = 0\n",
    "for i in range(1,n+1):\n",
    "    sum = sum +i\n",
    "print(\"sum of natural numbers are\",sum)\n"
   ]
  },
  {
   "cell_type": "code",
   "execution_count": null,
   "id": "0c5a8677",
   "metadata": {},
   "outputs": [],
   "source": []
  }
 ],
 "metadata": {
  "kernelspec": {
   "display_name": "Python 3 (ipykernel)",
   "language": "python",
   "name": "python3"
  },
  "language_info": {
   "codemirror_mode": {
    "name": "ipython",
    "version": 3
   },
   "file_extension": ".py",
   "mimetype": "text/x-python",
   "name": "python",
   "nbconvert_exporter": "python",
   "pygments_lexer": "ipython3",
   "version": "3.9.12"
  }
 },
 "nbformat": 4,
 "nbformat_minor": 5
}
