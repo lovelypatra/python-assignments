{
 "cells": [
  {
   "cell_type": "markdown",
   "id": "07bf4f8a",
   "metadata": {},
   "source": [
    "1. What are escape characters, and how do you use them?\n",
    "ans:An escape character is a backslash symbol('\\') followed by characters we want to insert.\n",
    "For example:-  \\n    this represents new line.\n",
    "\n",
    "2. What do the escape characters n and t stand for?\n",
    "ans:\\n forms a new line and \\t forms a horizontal tab\n",
    "\n",
    "3. What is the way to include backslash characters in a string?\n",
    "ans:we can use an escape character.An escape character is a backslash \\ followed by the character we want to insert.\n",
    "\n",
    "4. The string \"Howl's Moving Castle\" is a correct value. Why isn't the single quote character in the word Howl's not escaped a problem?\n",
    "ans:because string is stored in double code.string would have been shown error if string would have stored in single code.\n",
    "\n",
    "5. How do you write a string of newlines if you don't want to use the n character?\n",
    "ans:by using triple double code\n",
    "\n",
    "6. What are the values of the given expressions?\n",
    "'Hello, world!'[1]\n",
    "'Hello, world!'[0:5]\n",
    "'Hello, world!'[:5]\n",
    "'Hello, world!'[3:]\n",
    "\n",
    "ans:'ello, world!\n",
    "'Hello'\n",
    "'Hello'\n",
    "'lo, world!'\n",
    "\n",
    "7. What are the values of the following expressions?\n",
    "'Hello'.upper()\n",
    "'Hello'.upper().isupper()\n",
    "'Hello'.upper().lower()\n",
    "ans: HELLO\n",
    "False\n",
    "hello\n",
    "\n",
    "8. What are the values of the following expressions?\n",
    "'Remember, remember, the fifth of July.'.split()\n",
    "'-'.join('There can only one.'.split())\n",
    "ans: ['Remember,', 'remember,', 'the', 'fifth', 'of', 'July.']\n",
    "'There-can-only-one.'\n",
    "\n",
    "9. What are the methods for right-justifying, left-justifying, and centering a s'ring?\n",
    "ans:for right justifying the method is rjust()\n",
    "for left justifying the method is ljust()\n",
    "for centering the method is center()\n",
    "\n",
    "10. What is the best way to remove whitespace characters from the start or end?\n",
    "ans:By using strip() function we can remove whitespace characters from start or end."
   ]
  }
 ],
 "metadata": {
  "kernelspec": {
   "display_name": "Python 3 (ipykernel)",
   "language": "python",
   "name": "python3"
  },
  "language_info": {
   "codemirror_mode": {
    "name": "ipython",
    "version": 3
   },
   "file_extension": ".py",
   "mimetype": "text/x-python",
   "name": "python",
   "nbconvert_exporter": "python",
   "pygments_lexer": "ipython3",
   "version": "3.9.12"
  }
 },
 "nbformat": 4,
 "nbformat_minor": 5
}
