{
 "cells": [
  {
   "cell_type": "markdown",
   "id": "1557b186",
   "metadata": {},
   "source": [
    "1. What exactly is []?\n",
    "ans:  [] is a square bracket used to write list.when we write inside a square bracket it forms a list.example,L=[1,2,3,4]\n",
    "\n",
    "2. In a list of values stored in a variable called spam, how would you assign the value 'hello' as the third value? (Assume [2, 4, 6, 8, 10] are in spam.)\n",
    "ans:  using insert function we can store the value 'hello' in third place inside the variable spam\n",
    "i.e., spam.insert(2,'hello')\n",
    "\n",
    "Let's pretend the spam includes the list ['a','b','c','d'] for the next three queries.\n",
    "\n",
    "3. What is the value of spam[int(int('3' * 2) / 11)]?\n",
    "ans: d\n",
    "\n",
    "4. What is the value of spam[-1]?\n",
    "ans:d\n",
    "\n",
    "5. What is the value of spam[:2]?\n",
    "ans: ['a','b']\n",
    "\n",
    "Let's pretend bacon has the list [3.14,'cat','11','cat',True] for the next three questions.\n",
    "\n",
    "6. What is the value of bacon.index('cat')?\n",
    "ans: 1\n",
    "\n",
    "7. How does bacon.append(99) change the look of the list value in bacon?\n",
    "ans: [3.14, 'cat', '11', 'cat', True, '99']\n",
    "\n",
    "8. How does bacon.remove('cat') change the look of the list in bacon?\n",
    "ans: [3.14, '11', 'cat', True, '99']\n",
    "\n",
    "9. What are the list concatenation and list replication operators?\n",
    "ans:list concatenation is + and list replication is *\n",
    "\n",
    "10. What is difference between the list methods append() and insert()?\n",
    "ans: when we use append in list,it appends the value in the last index of the list but when insert is used, it appends in the index which is given by the user.\n",
    "\n",
    "11. What are the two methods for removing items from a list?\n",
    "ans:pop function and remove function is used to remove item from list.\n",
    "\n",
    "12. Describe how list values and string values are identical.\n",
    "ans:list and string both are sequences.we can extract characters from string and we can extract characters from list even if it contains integer in it.\n",
    "\n",
    "13. What's the difference between tuples and lists?\n",
    "ans: tuples are imutable but lists are mutable.\n",
    "\n",
    "14. How do you type a tuple value that only contains the integer 42?\n",
    "ans:t=(42,)\n",
    "\n",
    "15. How do you get a list value's tuple form? How do you get a tuple value's list form?\n",
    "ans: if l is list then we can convert it into tuple by writting tuple(l).\n",
    "if t is tuple then we can covert it into list by writting list(t).\n",
    "\n",
    "16. Variables that \"contain\" list values are not necessarily lists themselves. Instead, what do they contain?\n",
    "ans: string, integer, floating point number.\n",
    "\n",
    "17. How do you distinguish between copy.copy() and copy.deepcopy()?\n",
    "ans: copy.copy() does not create any copied object rather changes the original object  but copy.deepcopy() creates a copied object and makes changes in copied object, original object remains same as it is."
   ]
  }
 ],
 "metadata": {
  "kernelspec": {
   "display_name": "Python 3 (ipykernel)",
   "language": "python",
   "name": "python3"
  },
  "language_info": {
   "codemirror_mode": {
    "name": "ipython",
    "version": 3
   },
   "file_extension": ".py",
   "mimetype": "text/x-python",
   "name": "python",
   "nbconvert_exporter": "python",
   "pygments_lexer": "ipython3",
   "version": "3.9.12"
  }
 },
 "nbformat": 4,
 "nbformat_minor": 5
}
