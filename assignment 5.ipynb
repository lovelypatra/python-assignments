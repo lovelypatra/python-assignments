{
 "cells": [
  {
   "cell_type": "markdown",
   "id": "0849d513",
   "metadata": {},
   "source": [
    "1. What does an empty dictionary's code look like?\n",
    "ans: {}\n",
    "\n",
    "2. What is the value of a dictionary value with the key 'foo' and the value 42?\n",
    "ans: 42\n",
    "\n",
    "3. What is the most significant distinction between a dictionary and a list?\n",
    "ans: A list is an ordered sequence of objects, whereas dictionaries are unordered sets.However items in dictionaries are accessed via keys and not via their position.\n",
    "\n",
    "4. What happens if you try to access spam['foo'] if spam is {'bar': 100}?\n",
    "ans: key error\n",
    "\n",
    "5. If a dictionary is stored in spam, what is the difference between the expressions 'cat' in spam and 'cat' in spam.keys()?\n",
    "ans: 'cat' in spam means it will check whether cat is present inside the dictionary either in keys or in values but 'cat' in spam.keys() means its check whether cat is present in keys of the dictionary or not,it will not check the values.\n",
    "\n",
    "6. If a dictionary is stored in spam, what is the difference between the expressions 'cat' in spam and 'cat' in spam.values()?\n",
    "ans: 'cat' in spam means it will check whether cat is present inside the dictionary either in keys or in values but 'cat' in spam.values() means its check whether cat is present in values of the dictionary or not,it will not check the keys.\n",
    "\n",
    "7. What is a shortcut for the following code?\n",
    "ans: if 'color' not in spam:\n",
    "spam['color'] = 'black'\n",
    "\n",
    "8. How do you \"pretty print\" dictionary values using which module and function?\n",
    "ans: within pprint() module there is a function used to pretty-print the given string or object."
   ]
  }
 ],
 "metadata": {
  "kernelspec": {
   "display_name": "Python 3 (ipykernel)",
   "language": "python",
   "name": "python3"
  },
  "language_info": {
   "codemirror_mode": {
    "name": "ipython",
    "version": 3
   },
   "file_extension": ".py",
   "mimetype": "text/x-python",
   "name": "python",
   "nbconvert_exporter": "python",
   "pygments_lexer": "ipython3",
   "version": "3.9.12"
  }
 },
 "nbformat": 4,
 "nbformat_minor": 5
}
