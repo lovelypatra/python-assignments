{
 "cells": [
  {
   "cell_type": "markdown",
   "id": "fed328b1",
   "metadata": {},
   "source": [
    "1. Write a Python Program to Display Fibonacci Sequence Using Recursion?"
   ]
  },
  {
   "cell_type": "code",
   "execution_count": 1,
   "id": "e80a6d01",
   "metadata": {},
   "outputs": [
    {
     "name": "stdout",
     "output_type": "stream",
     "text": [
      "Enter the number of terms : 5\n",
      "0\n",
      "1\n",
      "1\n",
      "2\n",
      "3\n"
     ]
    }
   ],
   "source": [
    "def fibonacci(n):\n",
    "    if n == 1:\n",
    "        return 0\n",
    "    elif n ==2 :\n",
    "        return 1\n",
    "    return (fibonacci(n-1)+fibonacci(n-2))\n",
    "n = int(input(\"Enter the number of terms : \"))\n",
    "for i in range(1, n+1):\n",
    "    print(fibonacci(i))"
   ]
  },
  {
   "cell_type": "code",
   "execution_count": 2,
   "id": "e4e8de5e",
   "metadata": {},
   "outputs": [
    {
     "name": "stdout",
     "output_type": "stream",
     "text": [
      "Enter the n-value :5\n",
      "Factorial of  5 is 120\n"
     ]
    }
   ],
   "source": [
    "def factorial(n):\n",
    "    if (n==0 or n ==1):\n",
    "        return 1\n",
    "    else:\n",
    "        return n*factorial(n-1)\n",
    "n = int(input(\"Enter the n-value :\"))\n",
    "f = factorial(n)\n",
    "print(\"Factorial of \",n,\"is\",f)"
   ]
  },
  {
   "cell_type": "markdown",
   "id": "e2e8ddd6",
   "metadata": {},
   "source": [
    "3. Write a Python Program to calculate your Body Mass Index?"
   ]
  },
  {
   "cell_type": "code",
   "execution_count": 3,
   "id": "c1ba50f2",
   "metadata": {},
   "outputs": [
    {
     "name": "stdout",
     "output_type": "stream",
     "text": [
      "enter your weight in kg 50\n",
      "enter your height in m 1.524\n",
      " Your body mass index is : 21.527820833419444 Which is Normal.\n"
     ]
    }
   ],
   "source": [
    "weight=float(input(\"enter your weight in kg \"))\n",
    "height=float(input(\"enter your height in m \"))\n",
    "bmi=weight/(height*height)\n",
    "if bmi < 25:\n",
    "    print(\" Your body mass index is :\",bmi,\"Which is Normal.\")\n",
    "elif 25 <= bmi <= 29:\n",
    "    print(\"Your body mass index is \",bmi,\"Which is overweight.\")\n",
    "else:\n",
    "    print(\"Your body mass index is\",bmi,\"Which is obese.\")"
   ]
  },
  {
   "cell_type": "markdown",
   "id": "e1c690c4",
   "metadata": {},
   "source": [
    "4. Write a Python Program to calculate the natural logarithm of any number?"
   ]
  },
  {
   "cell_type": "code",
   "execution_count": 4,
   "id": "63bd47cf",
   "metadata": {},
   "outputs": [
    {
     "name": "stdout",
     "output_type": "stream",
     "text": [
      "enter a number2.3\n",
      "logarithm of  2.3 is 0.8329091229351039\n"
     ]
    }
   ],
   "source": [
    "from math import log\n",
    "n=float(input(\"enter a number\"))\n",
    "print(\"logarithm of \",n,\"is\",log(n))"
   ]
  },
  {
   "cell_type": "markdown",
   "id": "fc833faf",
   "metadata": {},
   "source": [
    "5. Write a Python Program for cube sum of first n natural numbers?"
   ]
  },
  {
   "cell_type": "code",
   "execution_count": 5,
   "id": "1841b7e1",
   "metadata": {},
   "outputs": [
    {
     "name": "stdout",
     "output_type": "stream",
     "text": [
      "enter a natural number6\n",
      "cube sum of  6 natural numbers is 441\n"
     ]
    }
   ],
   "source": [
    "sum=0\n",
    "n=int(input(\"enter a natural number\"))\n",
    "for i in range(n+1):\n",
    "    sum=sum+i**3\n",
    "print(\"cube sum of \",n,\"natural numbers is\",sum)"
   ]
  }
 ],
 "metadata": {
  "kernelspec": {
   "display_name": "Python 3 (ipykernel)",
   "language": "python",
   "name": "python3"
  },
  "language_info": {
   "codemirror_mode": {
    "name": "ipython",
    "version": 3
   },
   "file_extension": ".py",
   "mimetype": "text/x-python",
   "name": "python",
   "nbconvert_exporter": "python",
   "pygments_lexer": "ipython3",
   "version": "3.9.12"
  }
 },
 "nbformat": 4,
 "nbformat_minor": 5
}
