{
 "cells": [
  {
   "cell_type": "markdown",
   "id": "45756349",
   "metadata": {},
   "source": [
    "1. Write a Python Program to Find LCM?"
   ]
  },
  {
   "cell_type": "code",
   "execution_count": 2,
   "id": "c2d24022",
   "metadata": {},
   "outputs": [
    {
     "name": "stdout",
     "output_type": "stream",
     "text": [
      "Enter first number: 3\n",
      "Enter second number: 7\n",
      "The L.C.M. of 3 and 7 is 21\n"
     ]
    }
   ],
   "source": [
    "def LCM(x, y): \n",
    "    if x > y:  \n",
    "        greater = x  \n",
    "    else:  \n",
    "        greater = y  \n",
    "    while(True):  \n",
    "        if((greater % x == 0) and (greater % y == 0)):  \n",
    "            lcm = greater  \n",
    "            break  \n",
    "        greater += 1  \n",
    "    return lcm     \n",
    "n1 = int(input(\"Enter first number: \"))  \n",
    "n2 = int(input(\"Enter second number: \"))  \n",
    "print(\"The L.C.M. of\", n1,\"and\", n2,\"is\", LCM(n1, n2)) "
   ]
  },
  {
   "cell_type": "markdown",
   "id": "1c3fe148",
   "metadata": {},
   "source": [
    "2. Write a Python Program to Find HCF?"
   ]
  },
  {
   "cell_type": "code",
   "execution_count": 5,
   "id": "2ba85ba9",
   "metadata": {
    "scrolled": true
   },
   "outputs": [
    {
     "name": "stdout",
     "output_type": "stream",
     "text": [
      "Enter first number: 3\n",
      "Enter first number: 7\n",
      "The H.C.F. is 1\n"
     ]
    }
   ],
   "source": [
    "def HCF(x, y):\n",
    "    if x > y:\n",
    "        smaller = y\n",
    "    else:\n",
    "        smaller = x\n",
    "    for i in range(1, smaller+1):\n",
    "        if((x % i == 0) and (y % i == 0)):\n",
    "            hcf = i \n",
    "    return hcf\n",
    "n1 = int(input(\"Enter first number: \"))\n",
    "n2 = int(input(\"Enter first number: \"))\n",
    "print(\"The H.C.F. is\", HCF(n1, n2))"
   ]
  },
  {
   "cell_type": "markdown",
   "id": "22f8d2e3",
   "metadata": {},
   "source": [
    "3. Write a Python Program to Convert Decimal to Binary, Octal and Hexadecimal?"
   ]
  },
  {
   "cell_type": "code",
   "execution_count": 6,
   "id": "ea1cc229",
   "metadata": {},
   "outputs": [
    {
     "name": "stdout",
     "output_type": "stream",
     "text": [
      "Enter a decimal  number : 10\n",
      "1010"
     ]
    }
   ],
   "source": [
    "def convertToBinary(n):\n",
    "    if n > 1:\n",
    "        convertToBinary(n//2)\n",
    "    print(n % 2,end = '')\n",
    "dec = int(input(\"Enter a decimal  number : \"))\n",
    "convertToBinary(dec)"
   ]
  },
  {
   "cell_type": "code",
   "execution_count": 8,
   "id": "662f993c",
   "metadata": {},
   "outputs": [
    {
     "name": "stdout",
     "output_type": "stream",
     "text": [
      "Enter octal number : 432\n",
      "Equivalent Hexadecimal Value = 11a\n"
     ]
    }
   ],
   "source": [
    "octal_num = input(\"Enter octal number : \")\n",
    "decimal_num = int(octal_num, 8)\n",
    "hexadecimal = hex(decimal_num).replace(\"0x\", \"\")\n",
    "print(\"Equivalent Hexadecimal Value =\", hexadecimal)"
   ]
  },
  {
   "cell_type": "markdown",
   "id": "74f8fa32",
   "metadata": {},
   "source": [
    "4. Write a Python Program To Find ASCII value of a character?"
   ]
  },
  {
   "cell_type": "code",
   "execution_count": 9,
   "id": "bfefef58",
   "metadata": {},
   "outputs": [
    {
     "name": "stdout",
     "output_type": "stream",
     "text": [
      "enter a charactera\n",
      "ascii code of the character is  97\n"
     ]
    }
   ],
   "source": [
    "char=str(input(\"enter a character\"))\n",
    "print(\"ascii code of the character is \",ord(char))"
   ]
  },
  {
   "cell_type": "markdown",
   "id": "341050c6",
   "metadata": {},
   "source": [
    "5. Write a Python Program to Make a Simple Calculator with 4 basic mathematical operations?"
   ]
  },
  {
   "cell_type": "code",
   "execution_count": 11,
   "id": "2cb71f84",
   "metadata": {},
   "outputs": [
    {
     "name": "stdout",
     "output_type": "stream",
     "text": [
      "enter a number1\n",
      "enter another number2\n",
      "enter which opertion you want to do +,-,*,/ +\n",
      "3.0\n"
     ]
    }
   ],
   "source": [
    "n1=float(input(\"enter a number\"))\n",
    "n2=float(input(\"enter another number\"))\n",
    "operator=str(input(\"enter which opertion you want to do +,-,*,/ \"))\n",
    "if operator=='+':\n",
    "    print(n1+n2)\n",
    "elif operator =='-':\n",
    "    print(n1-n2)\n",
    "elif operator=='*':\n",
    "    print(n1*n2)\n",
    "elif operator=='/':\n",
    "    print(n1/n2)\n",
    "else:\n",
    "    print(\"some error occured try again\")"
   ]
  },
  {
   "cell_type": "code",
   "execution_count": null,
   "id": "1c6df606",
   "metadata": {},
   "outputs": [],
   "source": []
  }
 ],
 "metadata": {
  "kernelspec": {
   "display_name": "Python 3 (ipykernel)",
   "language": "python",
   "name": "python3"
  },
  "language_info": {
   "codemirror_mode": {
    "name": "ipython",
    "version": 3
   },
   "file_extension": ".py",
   "mimetype": "text/x-python",
   "name": "python",
   "nbconvert_exporter": "python",
   "pygments_lexer": "ipython3",
   "version": "3.9.12"
  }
 },
 "nbformat": 4,
 "nbformat_minor": 5
}
